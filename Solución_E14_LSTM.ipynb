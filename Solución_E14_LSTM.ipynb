{
  "nbformat": 4,
  "nbformat_minor": 0,
  "metadata": {
    "kernelspec": {
      "display_name": "Python 3",
      "language": "python",
      "name": "python3"
    },
    "language_info": {
      "codemirror_mode": {
        "name": "ipython",
        "version": 3
      },
      "file_extension": ".py",
      "mimetype": "text/x-python",
      "name": "python",
      "nbconvert_exporter": "python",
      "pygments_lexer": "ipython3",
      "version": "3.7.4"
    },
    "colab": {
      "name": "Solución E14-LSTM.ipynb",
      "provenance": [],
      "collapsed_sections": [],
      "machine_shape": "hm"
    },
    "accelerator": "GPU"
  },
  "cells": [
    {
      "cell_type": "markdown",
      "metadata": {
        "id": "0P8UGHDh9StR",
        "colab_type": "text"
      },
      "source": [
        "# Exercise 14\n",
        "\n",
        "## Predict rating using LSTM\n",
        "\n",
        "Integrates\n",
        "* Fernando Perez Moreno 200222809\n",
        "* Juan Camilo Florez Caro 201620135\n",
        "* Jhon Alexander Florez 201920529\n",
        "* Angie Paola Chacon 201012536\n",
        "\n"
      ]
    },
    {
      "cell_type": "code",
      "metadata": {
        "id": "aTj26A3l9StT",
        "colab_type": "code",
        "colab": {}
      },
      "source": [
        "import pandas as pd"
      ],
      "execution_count": null,
      "outputs": []
    },
    {
      "cell_type": "code",
      "metadata": {
        "id": "-hbtNTNi9Sta",
        "colab_type": "code",
        "colab": {}
      },
      "source": [
        "dataTraining = pd.read_csv('https://github.com/albahnsen/AdvancedMethodsDataAnalysisClass/raw/master/datasets/dataTraining.zip', encoding='UTF-8', index_col=0)\n",
        "dataTraining = dataTraining.reset_index(drop=True)"
      ],
      "execution_count": null,
      "outputs": []
    },
    {
      "cell_type": "code",
      "metadata": {
        "id": "tIT53Y1_9Stk",
        "colab_type": "code",
        "colab": {}
      },
      "source": [
        "plots = dataTraining['plot']\n",
        "y = (dataTraining['rating'] >= dataTraining['rating'].mean()).astype(int)"
      ],
      "execution_count": null,
      "outputs": []
    },
    {
      "cell_type": "code",
      "metadata": {
        "id": "FCG_aKsL9Str",
        "colab_type": "code",
        "colab": {
          "base_uri": "https://localhost:8080/",
          "height": 235
        },
        "outputId": "6b0481d5-525e-44c7-8d76-7cd72f4a23a8"
      },
      "source": [
        "plots"
      ],
      "execution_count": null,
      "outputs": [
        {
          "output_type": "execute_result",
          "data": {
            "text/plain": [
              "0       most is the story of a single father who takes...\n",
              "1       a serial killer decides to teach the secrets o...\n",
              "2       in sweden ,  a female blackmailer with a disfi...\n",
              "3       in a friday afternoon in new york ,  the presi...\n",
              "4       in los angeles ,  the editor of a publishing h...\n",
              "                              ...                        \n",
              "7890    \" our marriage ,  their wedding .  \"  it ' s l...\n",
              "7891    the wandering barbarian ,  conan ,  alongside ...\n",
              "7892    like a tale spun by scheherazade ,  kismet fol...\n",
              "7893    mrs .  brisby ,  a widowed mouse ,  lives in a...\n",
              "7894    tinker bell journey far north of never land to...\n",
              "Name: plot, Length: 7895, dtype: object"
            ]
          },
          "metadata": {
            "tags": []
          },
          "execution_count": 96
        }
      ]
    },
    {
      "cell_type": "code",
      "metadata": {
        "id": "y38NeAHv9St0",
        "colab_type": "code",
        "colab": {
          "base_uri": "https://localhost:8080/",
          "height": 235
        },
        "outputId": "2c4f817d-545e-45b8-a17f-f649b4f176fa"
      },
      "source": [
        "y"
      ],
      "execution_count": null,
      "outputs": [
        {
          "output_type": "execute_result",
          "data": {
            "text/plain": [
              "0       1\n",
              "1       0\n",
              "2       1\n",
              "3       1\n",
              "4       1\n",
              "       ..\n",
              "7890    0\n",
              "7891    0\n",
              "7892    0\n",
              "7893    1\n",
              "7894    1\n",
              "Name: rating, Length: 7895, dtype: int64"
            ]
          },
          "metadata": {
            "tags": []
          },
          "execution_count": 97
        }
      ]
    },
    {
      "cell_type": "markdown",
      "metadata": {
        "id": "3RDHQfgY9St5",
        "colab_type": "text"
      },
      "source": [
        "# Exercise 14.1\n",
        "\n",
        "- Remove stopwords \n",
        "- Lowercase\n",
        "- split the text in words\n",
        "- pad_sequences\n",
        "\n"
      ]
    },
    {
      "cell_type": "code",
      "metadata": {
        "id": "folU8Ep-9St6",
        "colab_type": "code",
        "colab": {
          "base_uri": "https://localhost:8080/",
          "height": 581
        },
        "outputId": "ff21e7e8-72b5-494a-9347-7d20b30e3b73"
      },
      "source": [
        "from sklearn.model_selection import train_test_split, cross_val_score\n",
        "import nltk\n",
        "from nltk.corpus import stopwords\n",
        "from nltk  import word_tokenize\n",
        "import string\n",
        "\n",
        "nltk.download('stopwords')\n",
        "nltk.download('punkt')\n",
        "english_stopwords = stopwords.words('english')\n",
        "punctuation = string.punctuation\n",
        "\n",
        "from keras.models import Sequential\n",
        "from keras.layers.recurrent import LSTM\n",
        "from keras.layers.core import Dense, Dropout\n",
        "from keras.layers.embeddings import Embedding\n",
        "from keras.preprocessing import sequence\n",
        "! pip install livelossplot\n",
        "from livelossplot import PlotLossesKeras\n",
        "from keras.layers import SpatialDropout1D\n",
        "from keras import backend as K"
      ],
      "execution_count": null,
      "outputs": [
        {
          "output_type": "stream",
          "text": [
            "[nltk_data] Downloading package stopwords to /root/nltk_data...\n",
            "[nltk_data]   Package stopwords is already up-to-date!\n",
            "[nltk_data] Downloading package punkt to /root/nltk_data...\n",
            "[nltk_data]   Package punkt is already up-to-date!\n",
            "Requirement already satisfied: livelossplot in /usr/local/lib/python3.6/dist-packages (0.5.1)\n",
            "Requirement already satisfied: matplotlib; python_version >= \"3.6\" in /usr/local/lib/python3.6/dist-packages (from livelossplot) (3.2.2)\n",
            "Requirement already satisfied: ipython in /usr/local/lib/python3.6/dist-packages (from livelossplot) (5.5.0)\n",
            "Requirement already satisfied: bokeh; python_version >= \"3.6\" in /usr/local/lib/python3.6/dist-packages (from livelossplot) (1.4.0)\n",
            "Requirement already satisfied: kiwisolver>=1.0.1 in /usr/local/lib/python3.6/dist-packages (from matplotlib; python_version >= \"3.6\"->livelossplot) (1.2.0)\n",
            "Requirement already satisfied: cycler>=0.10 in /usr/local/lib/python3.6/dist-packages (from matplotlib; python_version >= \"3.6\"->livelossplot) (0.10.0)\n",
            "Requirement already satisfied: pyparsing!=2.0.4,!=2.1.2,!=2.1.6,>=2.0.1 in /usr/local/lib/python3.6/dist-packages (from matplotlib; python_version >= \"3.6\"->livelossplot) (2.4.7)\n",
            "Requirement already satisfied: python-dateutil>=2.1 in /usr/local/lib/python3.6/dist-packages (from matplotlib; python_version >= \"3.6\"->livelossplot) (2.8.1)\n",
            "Requirement already satisfied: numpy>=1.11 in /usr/local/lib/python3.6/dist-packages (from matplotlib; python_version >= \"3.6\"->livelossplot) (1.18.5)\n",
            "Requirement already satisfied: decorator in /usr/local/lib/python3.6/dist-packages (from ipython->livelossplot) (4.4.2)\n",
            "Requirement already satisfied: setuptools>=18.5 in /usr/local/lib/python3.6/dist-packages (from ipython->livelossplot) (47.3.1)\n",
            "Requirement already satisfied: pygments in /usr/local/lib/python3.6/dist-packages (from ipython->livelossplot) (2.1.3)\n",
            "Requirement already satisfied: traitlets>=4.2 in /usr/local/lib/python3.6/dist-packages (from ipython->livelossplot) (4.3.3)\n",
            "Requirement already satisfied: simplegeneric>0.8 in /usr/local/lib/python3.6/dist-packages (from ipython->livelossplot) (0.8.1)\n",
            "Requirement already satisfied: pexpect; sys_platform != \"win32\" in /usr/local/lib/python3.6/dist-packages (from ipython->livelossplot) (4.8.0)\n",
            "Requirement already satisfied: prompt-toolkit<2.0.0,>=1.0.4 in /usr/local/lib/python3.6/dist-packages (from ipython->livelossplot) (1.0.18)\n",
            "Requirement already satisfied: pickleshare in /usr/local/lib/python3.6/dist-packages (from ipython->livelossplot) (0.7.5)\n",
            "Requirement already satisfied: tornado>=4.3 in /usr/local/lib/python3.6/dist-packages (from bokeh; python_version >= \"3.6\"->livelossplot) (4.5.3)\n",
            "Requirement already satisfied: packaging>=16.8 in /usr/local/lib/python3.6/dist-packages (from bokeh; python_version >= \"3.6\"->livelossplot) (20.4)\n",
            "Requirement already satisfied: PyYAML>=3.10 in /usr/local/lib/python3.6/dist-packages (from bokeh; python_version >= \"3.6\"->livelossplot) (3.13)\n",
            "Requirement already satisfied: pillow>=4.0 in /usr/local/lib/python3.6/dist-packages (from bokeh; python_version >= \"3.6\"->livelossplot) (7.0.0)\n",
            "Requirement already satisfied: six>=1.5.2 in /usr/local/lib/python3.6/dist-packages (from bokeh; python_version >= \"3.6\"->livelossplot) (1.12.0)\n",
            "Requirement already satisfied: Jinja2>=2.7 in /usr/local/lib/python3.6/dist-packages (from bokeh; python_version >= \"3.6\"->livelossplot) (2.11.2)\n",
            "Requirement already satisfied: ipython-genutils in /usr/local/lib/python3.6/dist-packages (from traitlets>=4.2->ipython->livelossplot) (0.2.0)\n",
            "Requirement already satisfied: ptyprocess>=0.5 in /usr/local/lib/python3.6/dist-packages (from pexpect; sys_platform != \"win32\"->ipython->livelossplot) (0.6.0)\n",
            "Requirement already satisfied: wcwidth in /usr/local/lib/python3.6/dist-packages (from prompt-toolkit<2.0.0,>=1.0.4->ipython->livelossplot) (0.2.5)\n",
            "Requirement already satisfied: MarkupSafe>=0.23 in /usr/local/lib/python3.6/dist-packages (from Jinja2>=2.7->bokeh; python_version >= \"3.6\"->livelossplot) (1.1.1)\n"
          ],
          "name": "stdout"
        }
      ]
    },
    {
      "cell_type": "code",
      "metadata": {
        "id": "2bXc9ho6BglW",
        "colab_type": "code",
        "colab": {
          "base_uri": "https://localhost:8080/",
          "height": 126
        },
        "outputId": "9d073676-f7b5-4059-ed43-76c321386877"
      },
      "source": [
        "X = plots.to_list()\n",
        "# Enviamos todo a minusculas\n",
        "X = [x.lower() for x in X]\n",
        "print('# de Plots: ',len(X))\n",
        "\n",
        "#Join une todoas las listas y split divide según palabras\n",
        "voc = ''.join(X).split() \n",
        "print('Largo con duplicados: ',len(voc))\n",
        "\n",
        "# Se eliminan Duplicados\n",
        "voc = set(voc) \n",
        "print('Largo sin duplicados: ',len(voc))\n",
        "\n",
        "# Removemos stopwords\n",
        "voc = [x for x in voc if x not in english_stopwords]\n",
        "print('Largo sin stopwords: ',len(voc))\n",
        "\n",
        "# Removemos puntuacion\n",
        "voc = [x for x in voc if x not in punctuation]\n",
        "print('Largo sin puntuación: ',len(voc))\n",
        "\n",
        "#Codificamos el vocabulario\n",
        "vocabulary = {x: idx + 1 for idx, x in enumerate(set(voc))}\n",
        "print('Largo del vocabulario: ',len(vocabulary))\n",
        "\n"
      ],
      "execution_count": null,
      "outputs": [
        {
          "output_type": "stream",
          "text": [
            "# de Plots:  7895\n",
            "Largo con duplicados:  1135072\n",
            "Largo sin duplicados:  40991\n",
            "Largo sin stopwords:  40841\n",
            "Largo sin puntuación:  40824\n",
            "Largo del vocabulario:  40824\n"
          ],
          "name": "stdout"
        }
      ]
    },
    {
      "cell_type": "code",
      "metadata": {
        "id": "qy-wjcChdOjX",
        "colab_type": "code",
        "colab": {
          "base_uri": "https://localhost:8080/",
          "height": 318
        },
        "outputId": "b00b0b69-4279-4b13-fcf3-ca3592caf693"
      },
      "source": [
        "# Identificamos el ancho máximo del pad\n",
        "maxlen =[]\n",
        "for i in range(0,len(plots)):\n",
        "  maxlen.append(len(plots.to_list()[i].split()))\n",
        "pd.DataFrame(maxlen).describe(percentiles = [0.90,0.95,0.99])"
      ],
      "execution_count": null,
      "outputs": [
        {
          "output_type": "execute_result",
          "data": {
            "text/html": [
              "<div>\n",
              "<style scoped>\n",
              "    .dataframe tbody tr th:only-of-type {\n",
              "        vertical-align: middle;\n",
              "    }\n",
              "\n",
              "    .dataframe tbody tr th {\n",
              "        vertical-align: top;\n",
              "    }\n",
              "\n",
              "    .dataframe thead th {\n",
              "        text-align: right;\n",
              "    }\n",
              "</style>\n",
              "<table border=\"1\" class=\"dataframe\">\n",
              "  <thead>\n",
              "    <tr style=\"text-align: right;\">\n",
              "      <th></th>\n",
              "      <th>0</th>\n",
              "    </tr>\n",
              "  </thead>\n",
              "  <tbody>\n",
              "    <tr>\n",
              "      <th>count</th>\n",
              "      <td>7895.000000</td>\n",
              "    </tr>\n",
              "    <tr>\n",
              "      <th>mean</th>\n",
              "      <td>144.770868</td>\n",
              "    </tr>\n",
              "    <tr>\n",
              "      <th>std</th>\n",
              "      <td>95.816408</td>\n",
              "    </tr>\n",
              "    <tr>\n",
              "      <th>min</th>\n",
              "      <td>1.000000</td>\n",
              "    </tr>\n",
              "    <tr>\n",
              "      <th>50%</th>\n",
              "      <td>127.000000</td>\n",
              "    </tr>\n",
              "    <tr>\n",
              "      <th>90%</th>\n",
              "      <td>274.600000</td>\n",
              "    </tr>\n",
              "    <tr>\n",
              "      <th>95%</th>\n",
              "      <td>328.000000</td>\n",
              "    </tr>\n",
              "    <tr>\n",
              "      <th>99%</th>\n",
              "      <td>438.060000</td>\n",
              "    </tr>\n",
              "    <tr>\n",
              "      <th>max</th>\n",
              "      <td>1863.000000</td>\n",
              "    </tr>\n",
              "  </tbody>\n",
              "</table>\n",
              "</div>"
            ],
            "text/plain": [
              "                 0\n",
              "count  7895.000000\n",
              "mean    144.770868\n",
              "std      95.816408\n",
              "min       1.000000\n",
              "50%     127.000000\n",
              "90%     274.600000\n",
              "95%     328.000000\n",
              "99%     438.060000\n",
              "max    1863.000000"
            ]
          },
          "metadata": {
            "tags": []
          },
          "execution_count": 100
        }
      ]
    },
    {
      "cell_type": "code",
      "metadata": {
        "id": "_AmGZ438IjOc",
        "colab_type": "code",
        "colab": {}
      },
      "source": [
        "max_plot_len =438\n",
        "\n",
        "X_ = [x.split()[:max_plot_len] for x in X] # Se incluye un split ya que la división es según las palabras\n",
        "# Convertimos las palabras en un padsequences\n",
        "X_ = [[vocabulary[x1] for x1 in x if x1 in vocabulary.keys()] for x in X_]\n",
        "X_pad = sequence.pad_sequences(X_, maxlen=max_plot_len)"
      ],
      "execution_count": null,
      "outputs": []
    },
    {
      "cell_type": "markdown",
      "metadata": {
        "id": "S2uInG_Xz64G",
        "colab_type": "text"
      },
      "source": [
        "### Revisamos el ejercicio con un plot puntual"
      ]
    },
    {
      "cell_type": "code",
      "metadata": {
        "id": "KNGMGakamJH1",
        "colab_type": "code",
        "colab": {
          "base_uri": "https://localhost:8080/",
          "height": 90
        },
        "outputId": "2370e12f-fa15-4f5e-ecc9-7fb8638b4de0"
      },
      "source": [
        "\n",
        "p = 5\n",
        "prueba = X[p].split()\n",
        "#Cortamos el plot de acuerdo al máximo del dataframe deseado\n",
        "prueba = [x[:max_plot_len] for x in prueba]\n",
        "# Enviamos todo a minusculas\n",
        "prueba = [x.lower() for x in prueba]\n",
        "# Removemos stopwords ya que quedan como 0\n",
        "prueba = [x for x in prueba if x not in english_stopwords]\n",
        "# Removemos puntuacion ya que quedan como 0\n",
        "prueba = [x for x in prueba if x not in punctuation]\n",
        "print('Largo de la prueba: ',len(prueba))\n",
        "\n",
        "#Codificamos con el vocabulary\n",
        "prueba_cod = [[vocabulary[x1] for x1 in x if x1 in vocabulary.keys()] for x in prueba]\n",
        "print('Largo de la prueba codificada: ',len(prueba_cod))\n",
        "\n",
        "#Construimos el pad\n",
        "prueba_pad = sequence.pad_sequences(prueba_cod, maxlen=max_plot_len)\n",
        "print('Largo de la prueba en versión pad: ',len(prueba_pad))\n",
        "\n",
        "#Imprimimos la prueba en el pad anteriormente construido para verificar\n",
        "print('Largo del la prueba en X_pad Definitivo: ',len([i for i in X_pad[p] if i != 0]))"
      ],
      "execution_count": null,
      "outputs": [
        {
          "output_type": "stream",
          "text": [
            "Largo de la prueba:  29\n",
            "Largo de la prueba codificada:  29\n",
            "Largo de la prueba en versión pad:  29\n",
            "Largo del la prueba en X_pad Definitivo:  29\n"
          ],
          "name": "stdout"
        }
      ]
    },
    {
      "cell_type": "code",
      "metadata": {
        "id": "EwlqPsmg9Q3M",
        "colab_type": "code",
        "colab": {
          "base_uri": "https://localhost:8080/",
          "height": 145
        },
        "outputId": "cb91547b-6b32-4417-a8f9-1f9028d17d66"
      },
      "source": [
        "X_pad"
      ],
      "execution_count": null,
      "outputs": [
        {
          "output_type": "execute_result",
          "data": {
            "text/plain": [
              "array([[    0,     0,     0, ..., 30652, 37161, 10790],\n",
              "       [    0,     0,     0, ..., 19038, 15623, 35012],\n",
              "       [    0,     0,     0, ..., 37790, 22718, 23589],\n",
              "       ...,\n",
              "       [    0,     0,     0, ..., 32531, 36788,  2296],\n",
              "       [    0,     0,     0, ..., 20947,  4343, 38765],\n",
              "       [    0,     0,     0, ..., 17676,  8856, 14465]], dtype=int32)"
            ]
          },
          "metadata": {
            "tags": []
          },
          "execution_count": 103
        }
      ]
    },
    {
      "cell_type": "code",
      "metadata": {
        "id": "wBHW4j4-rMWe",
        "colab_type": "code",
        "colab": {
          "base_uri": "https://localhost:8080/",
          "height": 235
        },
        "outputId": "18ef898c-3e51-4ab9-ffbf-44afaf7a8e29"
      },
      "source": [
        "y"
      ],
      "execution_count": null,
      "outputs": [
        {
          "output_type": "execute_result",
          "data": {
            "text/plain": [
              "0       1\n",
              "1       0\n",
              "2       1\n",
              "3       1\n",
              "4       1\n",
              "       ..\n",
              "7890    0\n",
              "7891    0\n",
              "7892    0\n",
              "7893    1\n",
              "7894    1\n",
              "Name: rating, Length: 7895, dtype: int64"
            ]
          },
          "metadata": {
            "tags": []
          },
          "execution_count": 104
        }
      ]
    },
    {
      "cell_type": "markdown",
      "metadata": {
        "id": "PI9CuZGQ9SuB",
        "colab_type": "text"
      },
      "source": [
        "# Exercise 14.2\n",
        "\n",
        "Create a LSTM neural network to predict the rating of a movie\n",
        "\n",
        "Calculate the testing set accuracy"
      ]
    },
    {
      "cell_type": "code",
      "metadata": {
        "id": "u3kA1Uzl7VbS",
        "colab_type": "code",
        "colab": {}
      },
      "source": [
        "X_train, X_test, y_train, y_test = train_test_split(X_pad, y, test_size=0.1, random_state=42)"
      ],
      "execution_count": null,
      "outputs": []
    },
    {
      "cell_type": "code",
      "metadata": {
        "id": "7e21hU8Ur0NX",
        "colab_type": "code",
        "colab": {
          "base_uri": "https://localhost:8080/",
          "height": 381
        },
        "outputId": "ac3d16e3-47b8-4bfe-bb13-3cb38d5eaf80"
      },
      "source": [
        "K.clear_session()\n",
        "model = Sequential()\n",
        "model.add(Embedding(len(vocabulary) + 1, 50, input_length=max_plot_len))\n",
        "\n",
        "model.add(LSTM(50, dropout=0.2, recurrent_dropout=0.2))\n",
        "\n",
        "model.add(Dropout(0.8)) #Controlamos el overfitting\n",
        "\n",
        "model.add(Dense(50, activation='relu')) \n",
        "\n",
        "model.add(Dropout(0.8)) #Controlamos el overfitting\n",
        "\n",
        "model.add(Dense(1, activation='sigmoid')) \n",
        "\n",
        "model.compile(loss='binary_crossentropy', optimizer='adam', metrics=['accuracy'])\n",
        "\n",
        "model.summary()   "
      ],
      "execution_count": null,
      "outputs": [
        {
          "output_type": "stream",
          "text": [
            "Model: \"sequential_1\"\n",
            "_________________________________________________________________\n",
            "Layer (type)                 Output Shape              Param #   \n",
            "=================================================================\n",
            "embedding_1 (Embedding)      (None, 438, 50)           2041250   \n",
            "_________________________________________________________________\n",
            "lstm_1 (LSTM)                (None, 50)                20200     \n",
            "_________________________________________________________________\n",
            "dropout_1 (Dropout)          (None, 50)                0         \n",
            "_________________________________________________________________\n",
            "dense_1 (Dense)              (None, 50)                2550      \n",
            "_________________________________________________________________\n",
            "dropout_2 (Dropout)          (None, 50)                0         \n",
            "_________________________________________________________________\n",
            "dense_2 (Dense)              (None, 1)                 51        \n",
            "=================================================================\n",
            "Total params: 2,064,051\n",
            "Trainable params: 2,064,051\n",
            "Non-trainable params: 0\n",
            "_________________________________________________________________\n"
          ],
          "name": "stdout"
        }
      ]
    },
    {
      "cell_type": "code",
      "metadata": {
        "id": "wdEfj48hlwFm",
        "colab_type": "code",
        "colab": {
          "base_uri": "https://localhost:8080/",
          "height": 454
        },
        "outputId": "bdb47f4d-3f88-4f27-93c4-8df43e86bf6a"
      },
      "source": [
        "model.fit(X_train, y_train, validation_data=[X_test, y_test], \n",
        "          batch_size=500, epochs=6, verbose=1,\n",
        "          callbacks=[PlotLossesKeras()])"
      ],
      "execution_count": null,
      "outputs": [
        {
          "output_type": "display_data",
          "data": {
            "image/png": "[encoded data removed]",
            "text/plain": [
              "<Figure size 864x576 with 2 Axes>"
            ]
          },
          "metadata": {
            "tags": [],
            "needs_background": "light"
          }
        },
        {
          "output_type": "stream",
          "text": [
            "accuracy\n",
            "\tvalidation       \t (min:    0.562, max:    0.616, cur:    0.616)\n",
            "\ttraining         \t (min:    0.497, max:    0.598, cur:    0.598)\n",
            "Loss\n",
            "\tvalidation       \t (min:    0.658, max:    0.691, cur:    0.658)\n",
            "\ttraining         \t (min:    0.655, max:    0.694, cur:    0.655)\n"
          ],
          "name": "stdout"
        },
        {
          "output_type": "execute_result",
          "data": {
            "text/plain": [
              "<keras.callbacks.callbacks.History at 0x7f3f97b60518>"
            ]
          },
          "metadata": {
            "tags": []
          },
          "execution_count": 150
        }
      ]
    },
    {
      "cell_type": "code",
      "metadata": {
        "id": "fVyiGDpEmrEK",
        "colab_type": "code",
        "colab": {
          "base_uri": "https://localhost:8080/",
          "height": 35
        },
        "outputId": "0f227085-99d9-4d55-e360-e96535dfd25d"
      },
      "source": [
        "y_pred = model.predict_classes(X_test)[:,0]\n",
        "\n",
        "print((y_pred == y_test).mean())#Generamos el accuracy del modelo"
      ],
      "execution_count": null,
      "outputs": [
        {
          "output_type": "stream",
          "text": [
            "0.6164556962025316\n"
          ],
          "name": "stdout"
        }
      ]
    }
  ]
}